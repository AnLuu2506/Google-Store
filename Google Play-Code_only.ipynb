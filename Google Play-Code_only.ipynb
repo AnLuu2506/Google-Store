{
 "cells": [
  {
   "cell_type": "code",
   "execution_count": null,
   "metadata": {
    "scrolled": true
   },
   "outputs": [],
   "source": [
    "from csv import reader\n",
    "opened_file = open('googleplaystore.csv', encoding=\"utf8\")\n",
    "read_file = reader(opened_file)\n",
    "android = list(read_file)\n",
    "android_header = android[0]\n",
    "android = android[1:]"
   ]
  },
  {
   "cell_type": "code",
   "execution_count": null,
   "metadata": {},
   "outputs": [],
   "source": [
    "def explore_data(dataset, start, end, rows_and_columns=False):\n",
    "    dataset_slice = dataset[start:end]\n",
    "    for row in dataset_slice:\n",
    "        print(row)\n",
    "        print('\\n')\n",
    "        \n",
    "    if rows_and_columns:\n",
    "        print('Number of rows', len(dataset))\n",
    "        print('Number of columns',len(dataset[0]))"
   ]
  },
  {
   "cell_type": "code",
   "execution_count": null,
   "metadata": {},
   "outputs": [],
   "source": [
    "explore_data(android,0,5,True)"
   ]
  },
  {
   "cell_type": "code",
   "execution_count": null,
   "metadata": {},
   "outputs": [],
   "source": [
    "for row in android:\n",
    "    if len(android_header) != len(row):\n",
    "        print(row)\n",
    "        print(android.index(row))"
   ]
  },
  {
   "cell_type": "code",
   "execution_count": null,
   "metadata": {},
   "outputs": [],
   "source": [
    "del android[10472]"
   ]
  },
  {
   "cell_type": "code",
   "execution_count": null,
   "metadata": {},
   "outputs": [],
   "source": [
    "duplicate_apps =[]\n",
    "unique_apps = []\n",
    "for app in android:\n",
    "    name = app[0]\n",
    "    if name in unique_apps:\n",
    "        duplicate_apps.append(name)\n",
    "    else:\n",
    "        unique_apps.append(name)"
   ]
  },
  {
   "cell_type": "code",
   "execution_count": null,
   "metadata": {},
   "outputs": [],
   "source": [
    "duplicate_apps"
   ]
  },
  {
   "cell_type": "code",
   "execution_count": null,
   "metadata": {},
   "outputs": [],
   "source": []
  },
  {
   "cell_type": "code",
   "execution_count": null,
   "metadata": {},
   "outputs": [],
   "source": [
    "len(unique_apps)"
   ]
  },
  {
   "cell_type": "code",
   "execution_count": null,
   "metadata": {},
   "outputs": [],
   "source": [
    "# In the dataset, there are some duplicated apps as these have many versions of itself."
   ]
  },
  {
   "cell_type": "code",
   "execution_count": null,
   "metadata": {},
   "outputs": [],
   "source": [
    "# for example, Instagram\n",
    "for app in android:\n",
    "    name = app[0]\n",
    "    if name == 'Instagram':\n",
    "        print(app)"
   ]
  },
  {
   "cell_type": "code",
   "execution_count": null,
   "metadata": {},
   "outputs": [],
   "source": [
    "# For example, 'Google Ads'\n",
    "for app in android:\n",
    "    name = app[0]\n",
    "    if name == 'Google Ads':\n",
    "        print(android_header)\n",
    "        print('\\n')\n",
    "        print(app)\n",
    "        print('\\n')"
   ]
  },
  {
   "cell_type": "code",
   "execution_count": null,
   "metadata": {},
   "outputs": [],
   "source": [
    "# It is necessary to delete duplicate values to have a clean data\n",
    "# Meanwhile, I consider the lastest version of each app is most relevant to this analysis\n",
    "# Hence, for each duplicate app, I will keep the lastest version with higest number of reviews"
   ]
  },
  {
   "cell_type": "code",
   "execution_count": null,
   "metadata": {},
   "outputs": [],
   "source": [
    "reviews_max = {}\n",
    "\n",
    "for app in android:\n",
    "    name=app[0]\n",
    "    n_reviews = float(app[3])\n",
    "    if name in reviews_max and reviews_max[name] <= n_reviews :\n",
    "        reviews_max[name] = n_reviews\n",
    "    elif (name not in reviews_max):\n",
    "        reviews_max[name] = n_reviews"
   ]
  },
  {
   "cell_type": "code",
   "execution_count": null,
   "metadata": {},
   "outputs": [],
   "source": []
  },
  {
   "cell_type": "code",
   "execution_count": null,
   "metadata": {},
   "outputs": [],
   "source": [
    "len(reviews_max)"
   ]
  },
  {
   "cell_type": "code",
   "execution_count": null,
   "metadata": {},
   "outputs": [],
   "source": []
  },
  {
   "cell_type": "code",
   "execution_count": null,
   "metadata": {},
   "outputs": [],
   "source": [
    "android_clean = []\n",
    "already_added = []\n",
    "for app in android:\n",
    "    name=app[0]\n",
    "    n_reviews = float(app[3])\n",
    "    \n",
    "    if name not in already_added and reviews_max[name] == n_reviews :\n",
    "        android_clean.append(app)\n",
    "        already_added.append(name)"
   ]
  },
  {
   "cell_type": "code",
   "execution_count": null,
   "metadata": {},
   "outputs": [],
   "source": []
  },
  {
   "cell_type": "code",
   "execution_count": null,
   "metadata": {},
   "outputs": [],
   "source": []
  },
  {
   "cell_type": "code",
   "execution_count": null,
   "metadata": {},
   "outputs": [],
   "source": [
    "already_added"
   ]
  },
  {
   "cell_type": "code",
   "execution_count": null,
   "metadata": {},
   "outputs": [],
   "source": [
    "explore_data(android_clean,0,3,True)"
   ]
  },
  {
   "cell_type": "code",
   "execution_count": null,
   "metadata": {},
   "outputs": [],
   "source": []
  },
  {
   "cell_type": "code",
   "execution_count": null,
   "metadata": {},
   "outputs": [],
   "source": [
    "def is_english(string):\n",
    "    non_ascii = 0\n",
    "    \n",
    "    for character in string:\n",
    "        if ord(character) > 127:\n",
    "            non_ascii += 1\n",
    "    \n",
    "    if non_ascii > 3:\n",
    "        return False\n",
    "    else:\n",
    "        return True"
   ]
  },
  {
   "cell_type": "code",
   "execution_count": null,
   "metadata": {},
   "outputs": [],
   "source": [
    "is_english('str(电视剧热播)')"
   ]
  },
  {
   "cell_type": "code",
   "execution_count": null,
   "metadata": {},
   "outputs": [],
   "source": [
    "android_clean_1 = []\n",
    "for app in android_clean:\n",
    "    if is_english(app[0]):\n",
    "        android_clean_1.append(app)"
   ]
  },
  {
   "cell_type": "code",
   "execution_count": null,
   "metadata": {
    "scrolled": true
   },
   "outputs": [],
   "source": [
    "print(android_header)\n",
    "print('\\n')\n",
    "print(android_clean_1[0:1])"
   ]
  },
  {
   "cell_type": "code",
   "execution_count": null,
   "metadata": {},
   "outputs": [],
   "source": [
    "# Create a dataframe helps visulaize dataset\n",
    "# Select column to help select only free apps"
   ]
  },
  {
   "cell_type": "code",
   "execution_count": null,
   "metadata": {},
   "outputs": [],
   "source": [
    "import pandas as pd\n",
    "df_android_clean_1 = pd.DataFrame(data=android_clean_1,columns=android_header)\n",
    "df_android_clean_1.head(1)\n",
    "df_android_clean_1['Type'].unique()"
   ]
  },
  {
   "cell_type": "code",
   "execution_count": null,
   "metadata": {},
   "outputs": [],
   "source": [
    "df_android_clean_1[df_android_clean_1['Type'] == 'Free']"
   ]
  },
  {
   "cell_type": "code",
   "execution_count": null,
   "metadata": {},
   "outputs": [],
   "source": [
    "android_free_clean = []\n",
    "for app in android_clean_1:\n",
    "    if str(app[6]) == 'Free':\n",
    "       android_free_clean.append(app)\n",
    "print(len(android_free_clean))"
   ]
  },
  {
   "cell_type": "code",
   "execution_count": null,
   "metadata": {
    "scrolled": true
   },
   "outputs": [],
   "source": [
    "len(df_android_clean_1[df_android_clean_1['Type'] == 'Free']) == len(android_free_clean)"
   ]
  },
  {
   "cell_type": "code",
   "execution_count": null,
   "metadata": {},
   "outputs": [],
   "source": [
    "# Because we want to build app in both Apple Store and Google Play. Hence, we should observe free apps\n",
    "# In both operating system which can attract high number of users and ratings."
   ]
  },
  {
   "cell_type": "code",
   "execution_count": null,
   "metadata": {},
   "outputs": [],
   "source": [
    "df_android_clean_1[df_android_clean_1['Category'] == 'FAMILY']\n",
    "# Most of apps in category of Family are related to games or entartainment"
   ]
  },
  {
   "cell_type": "code",
   "execution_count": null,
   "metadata": {},
   "outputs": [],
   "source": [
    "def freq_table(dataset, index):\n",
    "    table = {}\n",
    "    total = 0\n",
    "        \n",
    "    for row in dataset:\n",
    "        total += 1\n",
    "        value = row[index]\n",
    "        if value in table:\n",
    "            table[value] += 1\n",
    "        else: \n",
    "            table[value] = 1\n",
    "    \n",
    "    table_percentage = {}\n",
    "    for key in table:\n",
    "        percentage = round((table[key] / total)*100,2)\n",
    "        table_percentage[key] = percentage\n",
    "        \n",
    "    return table_percentage\n",
    "\n",
    "def display_table(dataset, index):\n",
    "    table = freq_table(dataset, index)\n",
    "    table_display = []\n",
    "    for key in table:\n",
    "        key_val_as_tuple = (table[key],key)\n",
    "        table_display.append(key_val_as_tuple)\n",
    "        \n",
    "    table_sorted = sorted(table_display, reverse = True)\n",
    "    for entry in table_sorted:\n",
    "        print(entry[1], ':', entry[0])"
   ]
  },
  {
   "cell_type": "code",
   "execution_count": null,
   "metadata": {},
   "outputs": [],
   "source": [
    "freq_table(android_free_clean, 1)"
   ]
  },
  {
   "cell_type": "code",
   "execution_count": null,
   "metadata": {},
   "outputs": [],
   "source": [
    "display_table(android_free_clean, 1)"
   ]
  },
  {
   "cell_type": "code",
   "execution_count": null,
   "metadata": {},
   "outputs": [],
   "source": [
    "freq_table(android_free_clean, 1)"
   ]
  },
  {
   "cell_type": "code",
   "execution_count": null,
   "metadata": {},
   "outputs": [],
   "source": []
  },
  {
   "cell_type": "code",
   "execution_count": null,
   "metadata": {},
   "outputs": [],
   "source": [
    "table_percentage = freq_table(android_free_clean, 1)\n",
    "list_avg = []\n",
    "\n",
    "for key in table_percentage:\n",
    "    total_install = 0\n",
    "    len_category = 0\n",
    "    for app in android_free_clean:\n",
    "        category = str(app[1])\n",
    "        if category == key:\n",
    "            n_install = app[5].replace(',',\"\")\n",
    "            n_install = n_install.replace('+',\" \")\n",
    "            total_install += float(n_install)\n",
    "            len_category += 1\n",
    "            \n",
    "    avg_install = total_install/len_category   \n",
    "    list_avg.append(round(avg_install,2))\n",
    "    print(key, \":\" ,round(avg_install,2))"
   ]
  },
  {
   "cell_type": "code",
   "execution_count": null,
   "metadata": {},
   "outputs": [],
   "source": []
  },
  {
   "cell_type": "code",
   "execution_count": null,
   "metadata": {},
   "outputs": [],
   "source": [
    "def count_table(dataset, index):\n",
    "    table = {}\n",
    "    for row in dataset:\n",
    "        category = row[index]\n",
    "        total = 0\n",
    "        if category in table:\n",
    "            table[category] += 1\n",
    "        else: \n",
    "            table[category] = 1\n",
    "    return table\n",
    "\n",
    "def total_download(dataset, x, y):\n",
    "    table = {}\n",
    "    for row in dataset:\n",
    "        category = row[x]\n",
    "        n_install = row[y].replace(',',\"\")\n",
    "        n_install = n_install.replace('+',\" \")\n",
    "        total_install = float(n_install)\n",
    "        if category in table:\n",
    "            table[category] += total_install\n",
    "        else:\n",
    "            table[category] = total_install\n",
    "    return table"
   ]
  },
  {
   "cell_type": "code",
   "execution_count": null,
   "metadata": {},
   "outputs": [],
   "source": []
  },
  {
   "cell_type": "code",
   "execution_count": null,
   "metadata": {
    "scrolled": true
   },
   "outputs": [],
   "source": [
    "data_for_frame = count_table(android_free_clean,1)\n",
    "data_frame_1 = pd.DataFrame.from_dict([data_for_frame])\n",
    "data_frame_1 = data_frame_1.transpose()\n",
    "data_frame_1.columns = ['Count']\n",
    "data_frame_1"
   ]
  },
  {
   "cell_type": "code",
   "execution_count": null,
   "metadata": {},
   "outputs": [],
   "source": [
    "data_for_frame_2 = total_download(android_free_clean,1,5)\n",
    "data_for_frame_2"
   ]
  },
  {
   "cell_type": "code",
   "execution_count": null,
   "metadata": {},
   "outputs": [],
   "source": []
  },
  {
   "cell_type": "code",
   "execution_count": null,
   "metadata": {},
   "outputs": [],
   "source": [
    "data_for_frame_2 = total_download(android_free_clean,1,5)\n",
    "data_frame_2 = pd.DataFrame.from_dict([data_for_frame_2 ])\n",
    "data_frame_2 = data_frame_2.transpose()\n",
    "data_frame_2.columns = ['Total_downloads']\n",
    "data_frame_2"
   ]
  },
  {
   "cell_type": "code",
   "execution_count": null,
   "metadata": {},
   "outputs": [],
   "source": [
    "summary_table = pd.concat([data_frame_1, data_frame_2],axis=1)\n",
    "summary_table.head(2)"
   ]
  },
  {
   "cell_type": "code",
   "execution_count": null,
   "metadata": {},
   "outputs": [],
   "source": []
  },
  {
   "cell_type": "code",
   "execution_count": null,
   "metadata": {},
   "outputs": [],
   "source": [
    "summary_table['Avg_downloads'] = summary_table['Total_downloads'].divide(summary_table['Count'])\n",
    "summary_table.sort_values(by=['Avg_downloads'],ascending=False)"
   ]
  },
  {
   "cell_type": "code",
   "execution_count": null,
   "metadata": {},
   "outputs": [],
   "source": []
  },
  {
   "cell_type": "code",
   "execution_count": null,
   "metadata": {},
   "outputs": [],
   "source": [
    "# We can now see which category has most average download\n",
    "# However, in each category, there may be some outliers which distorts the results\n",
    "# That will give us a wrong interpreation about which category of app should we build\n",
    "# Now build a function to return list of apps in each category and ordered descending by total of downloads:"
   ]
  },
  {
   "cell_type": "code",
   "execution_count": null,
   "metadata": {},
   "outputs": [],
   "source": [
    "# To help notice which category has most user efficiently - We can create a frequency table with frequency of apps sorted descending"
   ]
  },
  {
   "cell_type": "code",
   "execution_count": null,
   "metadata": {},
   "outputs": [],
   "source": []
  },
  {
   "cell_type": "code",
   "execution_count": null,
   "metadata": {},
   "outputs": [],
   "source": [
    "def category_apps_downloads(dataset, category,index_1,index_2,min):\n",
    "    count = 0\n",
    "    for app in dataset:\n",
    "        n_install = app[index_2].replace(',',\"\")\n",
    "        n_install = n_install.replace('+',\" \")\n",
    "        total_install = float(n_install)\n",
    "        if app[index_1] == category.strip() and total_install >= min:\n",
    "            count += 1\n",
    "            print(app[0], ':', app[5])\n",
    "        else:\n",
    "            count = count + 0\n",
    "    print('\\n')\n",
    "    print('Total_number', count)"
   ]
  },
  {
   "cell_type": "code",
   "execution_count": null,
   "metadata": {},
   "outputs": [],
   "source": []
  },
  {
   "cell_type": "code",
   "execution_count": null,
   "metadata": {},
   "outputs": [],
   "source": [
    "category_apps_downloads(android_free_clean,'COMMUNICATION',1,5,500000000)"
   ]
  },
  {
   "cell_type": "code",
   "execution_count": null,
   "metadata": {},
   "outputs": [],
   "source": []
  },
  {
   "cell_type": "code",
   "execution_count": null,
   "metadata": {},
   "outputs": [],
   "source": [
    "category_apps_downloads(android_free_clean,'VIDEO_PLAYERS',1,5,100000000)"
   ]
  },
  {
   "cell_type": "code",
   "execution_count": null,
   "metadata": {},
   "outputs": [],
   "source": [
    "category_apps_downloads(android_free_clean,'SOCIAL',1,5,100000000)"
   ]
  },
  {
   "cell_type": "code",
   "execution_count": null,
   "metadata": {},
   "outputs": [],
   "source": []
  },
  {
   "cell_type": "code",
   "execution_count": null,
   "metadata": {},
   "outputs": [],
   "source": [
    "# For Google Store, Category of communication, video_player and social have most number of installments\n",
    "# According t dataset, building an app to facilitate communication among users can attract a lot of downloads"
   ]
  },
  {
   "cell_type": "code",
   "execution_count": null,
   "metadata": {},
   "outputs": [],
   "source": [
    "category_apps_downloads(android_free_clean,'PHOTOGRAPHY',1,5,100000000)"
   ]
  },
  {
   "cell_type": "code",
   "execution_count": null,
   "metadata": {},
   "outputs": [],
   "source": [
    "category_apps_downloads(android_free_clean,'GAME',1,5,100000000)"
   ]
  },
  {
   "cell_type": "code",
   "execution_count": null,
   "metadata": {},
   "outputs": [],
   "source": [
    "category_apps_downloads(android_free_clean,'TRAVEL_AND_LOCAL',1,5,500000000)"
   ]
  },
  {
   "cell_type": "code",
   "execution_count": null,
   "metadata": {},
   "outputs": [],
   "source": [
    "category_apps_downloads(android_free_clean,'TRAVEL_AND_LOCAL  ',1,5,100000000)"
   ]
  },
  {
   "cell_type": "code",
   "execution_count": null,
   "metadata": {},
   "outputs": [],
   "source": [
    "# Meanwhile, in the communication category, there 11 apps that have more than 500 million downloads. \n",
    "# It is very hard for new app to compete with these giants \n",
    "# The same situation applies to category of Video_players, Social, PRODUCTIVITY, GAME, TRAVEL_AND_LOCAL \n",
    "# Game haves many competitors with many of them have more than 100,000,000 downdloads"
   ]
  },
  {
   "cell_type": "code",
   "execution_count": null,
   "metadata": {},
   "outputs": [],
   "source": [
    "# Photography can be wise as there is one dominating app (Google Photos: over 1 billion downloads) and 18 apps\n",
    "# have number of downloads below 500 million\n",
    "# THe same situation can apply to Travel_And_Local as these apps are popular but \n",
    "#with less number of strong competitors in comparison to other categories"
   ]
  }
 ],
 "metadata": {
  "kernelspec": {
   "display_name": "Python 3",
   "language": "python",
   "name": "python3"
  },
  "language_info": {
   "codemirror_mode": {
    "name": "ipython",
    "version": 3
   },
   "file_extension": ".py",
   "mimetype": "text/x-python",
   "name": "python",
   "nbconvert_exporter": "python",
   "pygments_lexer": "ipython3",
   "version": "3.7.3"
  }
 },
 "nbformat": 4,
 "nbformat_minor": 2
}
